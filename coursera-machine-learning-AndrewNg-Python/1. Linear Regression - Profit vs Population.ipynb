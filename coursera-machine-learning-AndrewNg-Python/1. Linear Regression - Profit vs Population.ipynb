{
 "cells": [
  {
   "cell_type": "markdown",
   "metadata": {},
   "source": [
    "# Profit vs Population\n",
    "In this exercise I estimate the profit of a company base on the population of the city."
   ]
  },
  {
   "cell_type": "code",
   "execution_count": 1,
   "metadata": {
    "collapsed": false
   },
   "outputs": [],
   "source": [
    "import numpy as np\n",
    "import pandas as pd\n",
    "from scipy.optimize import fmin_cg\n",
    "import matplotlib.pyplot as plt\n",
    "%matplotlib inline"
   ]
  },
  {
   "cell_type": "code",
   "execution_count": 2,
   "metadata": {
    "collapsed": false
   },
   "outputs": [
    {
     "data": {
      "text/html": [
       "<div>\n",
       "<table border=\"1\" class=\"dataframe\">\n",
       "  <thead>\n",
       "    <tr style=\"text-align: right;\">\n",
       "      <th></th>\n",
       "      <th>Population</th>\n",
       "      <th>Profit</th>\n",
       "    </tr>\n",
       "  </thead>\n",
       "  <tbody>\n",
       "    <tr>\n",
       "      <th>0</th>\n",
       "      <td>6.1101</td>\n",
       "      <td>17.5920</td>\n",
       "    </tr>\n",
       "    <tr>\n",
       "      <th>1</th>\n",
       "      <td>5.5277</td>\n",
       "      <td>9.1302</td>\n",
       "    </tr>\n",
       "    <tr>\n",
       "      <th>2</th>\n",
       "      <td>8.5186</td>\n",
       "      <td>13.6620</td>\n",
       "    </tr>\n",
       "    <tr>\n",
       "      <th>3</th>\n",
       "      <td>7.0032</td>\n",
       "      <td>11.8540</td>\n",
       "    </tr>\n",
       "    <tr>\n",
       "      <th>4</th>\n",
       "      <td>5.8598</td>\n",
       "      <td>6.8233</td>\n",
       "    </tr>\n",
       "  </tbody>\n",
       "</table>\n",
       "</div>"
      ],
      "text/plain": [
       "   Population   Profit\n",
       "0      6.1101  17.5920\n",
       "1      5.5277   9.1302\n",
       "2      8.5186  13.6620\n",
       "3      7.0032  11.8540\n",
       "4      5.8598   6.8233"
      ]
     },
     "execution_count": 2,
     "metadata": {},
     "output_type": "execute_result"
    }
   ],
   "source": [
    "#load the data from a .txt file and observed first 5 examples\n",
    "df = pd.read_csv('data/data1.txt', names = ['Population','Profit'])\n",
    "df.head()"
   ]
  },
  {
   "cell_type": "code",
   "execution_count": 3,
   "metadata": {
    "collapsed": false
   },
   "outputs": [
    {
     "data": {
      "text/plain": [
       "<matplotlib.text.Text at 0x7fe0d07beb10>"
      ]
     },
     "execution_count": 3,
     "metadata": {},
     "output_type": "execute_result"
    },
    {
     "data": {
      "image/png": "[encoded data removed]",
      "text/plain": [
       "<matplotlib.figure.Figure at 0x7fe0d0808ad0>"
      ]
     },
     "metadata": {},
     "output_type": "display_data"
    }
   ],
   "source": [
    "#Plot the data with scaled units\n",
    "plt.scatter(df['Population'], df['Profit'])\n",
    "plt.xlabel('Population/(10,000)')\n",
    "plt.ylabel('Profit/(10,000)')"
   ]
  },
  {
   "cell_type": "code",
   "execution_count": 30,
   "metadata": {
    "collapsed": false
   },
   "outputs": [],
   "source": [
    "#Pass data to a matrix to be handle\n",
    "x = df.as_matrix(columns = ['Population'])\n",
    "y = df.as_matrix(columns = ['Profit'])\n",
    "\n",
    "#Number of examples\n",
    "m = x.shape[0]\n",
    "\n",
    "#Number of features + 1\n",
    "n = x.shape[1] + 1\n",
    "\n",
    "#Initialize fitting parameters\n",
    "theta_initial = np.zeros(n)"
   ]
  },
  {
   "cell_type": "code",
   "execution_count": 46,
   "metadata": {
    "collapsed": false
   },
   "outputs": [],
   "source": [
    "#Function that normalizes the data to match unit scales\n",
    "def normalize_data(x):\n",
    "    # normalizaing such that data has mean 0 and std of 1\n",
    "    mu = x.mean()\n",
    "    sigma = x.std()\n",
    "    x = (x - mu) / sigma\n",
    "    return (x, mu, sigma)\n",
    "\n",
    "def add_column_ones(x):\n",
    "    x = np.append(np.ones((x.shape[0], 1)), x, axis = 1)\n",
    "    return x\n",
    "\n",
    "#Function that we want minimized\n",
    "def cost_function(theta, x, y):\n",
    "    theta = theta.reshape((len(theta), 1))\n",
    "    pred = np.dot(x, theta)\n",
    "    J = np.mean((pred - y) ** 2) / 2\n",
    "    return J\n",
    "\n",
    "#Gradient of costFunction\n",
    "def gradient(theta, x, y):\n",
    "    theta = theta.reshape((len(theta), 1))\n",
    "    pred = np.dot(x, theta)\n",
    "    grad = np.dot(x.T, pred - y) / m\n",
    "    return grad.flatten()\n",
    "\n",
    "#Prediction for data x using parameters theta\n",
    "def prediction(theta, x, mu = 0, sigma = 1):\n",
    "    theta = theta.reshape((len(theta), 1))\n",
    "    x = x.reshape(len(x), 1)\n",
    "    x = (x - mu) / sigma\n",
    "    x = add_column_ones(x)\n",
    "    pred = np.dot(x, theta)\n",
    "    return pred"
   ]
  },
  {
   "cell_type": "code",
   "execution_count": 47,
   "metadata": {
    "collapsed": false
   },
   "outputs": [
    {
     "data": {
      "image/png": "[encoded data removed]",
      "text/plain": [
       "<matplotlib.figure.Figure at 0x7fe0cfc60990>"
      ]
     },
     "metadata": {},
     "output_type": "display_data"
    }
   ],
   "source": [
    "#Normalize data and plot it\n",
    "X, mu, sigma = normalize_data(x)\n",
    "plt.scatter(X,y)\n",
    "plt.title('Normalized Data')\n",
    "\n",
    "X = add_column_ones(X)"
   ]
  },
  {
   "cell_type": "code",
   "execution_count": 63,
   "metadata": {
    "collapsed": false
   },
   "outputs": [
    {
     "name": "stdout",
     "output_type": "stream",
     "text": [
      "Optimization terminated successfully.\n",
      "         Current function value: 4.476971\n",
      "         Iterations: 1\n",
      "         Function evaluations: 2\n",
      "         Gradient evaluations: 2\n",
      "The fitting parameters that minimize the costFunction are Theta = (5.839135,4.593041).        \n",
      "The plot shows the evolution of the costFunction.\n"
     ]
    },
    {
     "data": {
      "image/png": "[encoded data removed]",
      "text/plain": [
       "<matplotlib.figure.Figure at 0x7fe0d0073210>"
      ]
     },
     "metadata": {},
     "output_type": "display_data"
    }
   ],
   "source": [
    "#Perform the minimization of the cost function with the use of its gradient\n",
    "theta, thetas = fmin_cg(cost_function, theta_initial, fprime = gradient, \n",
    "                         args = (X, y), retall = 1, disp = 1)\n",
    "\n",
    "#Calculate the evolution of the costFunction with every iteration\n",
    "J = np.zeros(len(thetas))\n",
    "for i, theta in enumerate(thetas):\n",
    "    J[i] = cost_function(theta, X, y)\n",
    "    \n",
    "plt.plot(range(J.size), J)\n",
    "plt.xlabel('Iterations')\n",
    "plt.ylabel('Cost Function')\n",
    "\n",
    "print 'The fitting parameters that minimize the costFunction are Theta = (%f,%f). \\\n",
    "       \\nThe plot shows the evolution of the costFunction.' %(theta[0],theta[1])"
   ]
  },
  {
   "cell_type": "code",
   "execution_count": 72,
   "metadata": {
    "collapsed": false
   },
   "outputs": [
    {
     "name": "stdout",
     "output_type": "stream",
     "text": [
      "This curve achieves a cost function of J = 4.476971\n"
     ]
    },
    {
     "data": {
      "image/png": "[encoded data removed]",
      "text/plain": [
       "<matplotlib.figure.Figure at 0x7fe0cfcd51d0>"
      ]
     },
     "metadata": {},
     "output_type": "display_data"
    }
   ],
   "source": [
    "#Plot prediction curve with data\n",
    "population = np.linspace(5,25,100)\n",
    "pred = prediction(theta, population, mu, sigma)\n",
    "\n",
    "plt.scatter(df['Population'], df['Profit'])\n",
    "plt.plot(population, pred, 'r')\n",
    "plt.xlabel('Population/(10,000)')\n",
    "plt.ylabel('Profit/(10,000)')\n",
    "\n",
    "print 'This curve achieves a cost function of J = %f' % J[-1]"
   ]
  },
  {
   "cell_type": "code",
   "execution_count": 71,
   "metadata": {
    "collapsed": false
   },
   "outputs": [
    {
     "name": "stdout",
     "output_type": "stream",
     "text": [
      "For a population of 150 thousand  we expect a profit of $139997.237845\n"
     ]
    }
   ],
   "source": [
    "#Make an specific prediction\n",
    "\n",
    "population = np.array([15])\n",
    "expected_profit = prediction(theta, population, mu, sigma)\n",
    "\n",
    "print 'For a population of %d thousand  we expect a profit of $%f' \\\n",
    "       %(population*10,expected_profit*10000) \n"
   ]
  }
 ],
 "metadata": {
  "kernelspec": {
   "display_name": "Python 2",
   "language": "python",
   "name": "python2"
  },
  "language_info": {
   "codemirror_mode": {
    "name": "ipython",
    "version": 2
   },
   "file_extension": ".py",
   "mimetype": "text/x-python",
   "name": "python",
   "nbconvert_exporter": "python",
   "pygments_lexer": "ipython2",
   "version": "2.7.6"
  }
 },
 "nbformat": 4,
 "nbformat_minor": 0
}
